{
 "cells": [
  {
   "cell_type": "code",
   "execution_count": 1,
   "metadata": {},
   "outputs": [
    {
     "name": "stdout",
     "output_type": "stream",
     "text": [
      "Jupyter environment detected. Enabling Open3D WebVisualizer.\n",
      "[Open3D INFO] WebRTC GUI backend enabled.\n",
      "[Open3D INFO] WebRTCWindowSystem: HTTP handshake server disabled.\n"
     ]
    },
    {
     "data": {
      "text/plain": [
       "True"
      ]
     },
     "execution_count": 1,
     "metadata": {},
     "output_type": "execute_result"
    }
   ],
   "source": [
    "import os\n",
    "\n",
    "import open3d\n",
    "from plyfile import PlyData, PlyElement\n",
    "import numpy as np\n",
    "import pandas as pd\n",
    "\n",
    "import torch\n",
    "torch.cuda.is_available()"
   ]
  },
  {
   "cell_type": "code",
   "execution_count": 2,
   "metadata": {},
   "outputs": [],
   "source": [
    "train_files = []\n",
    "with open('./dataset/train.txt') as f:\n",
    "    for line in f:\n",
    "        train_files.append(line.strip())"
   ]
  },
  {
   "cell_type": "code",
   "execution_count": 3,
   "metadata": {},
   "outputs": [],
   "source": [
    "def read_plyfile(filepath):\n",
    "    \"\"\"\n",
    "    Read ply file and return it as np.array. Returns None if empty\n",
    "    \"\"\"\n",
    "    with open(filepath, 'rb') as f:\n",
    "        plydata = PlyData.read(f)\n",
    "    if plydata.elements:\n",
    "        return pd.DataFrame(plydata.elements[0].data).values"
   ]
  },
  {
   "cell_type": "code",
   "execution_count": 4,
   "metadata": {},
   "outputs": [],
   "source": [
    "train_root = './dataset'\n",
    "path = os.path.join(train_root, train_files[0])\n",
    "\n",
    "data = read_plyfile(path)"
   ]
  },
  {
   "cell_type": "code",
   "execution_count": 5,
   "metadata": {},
   "outputs": [
    {
     "data": {
      "text/plain": [
       "array([[-3.41029572,  1.22604847,  0.19869943],\n",
       "       [-3.39742899,  1.25844002,  0.19795202],\n",
       "       [-3.41037989,  1.1878475 ,  0.10961316],\n",
       "       ...,\n",
       "       [ 3.32770324, -0.70443457,  2.51359797],\n",
       "       [ 3.33274317, -0.67037743,  2.5465734 ],\n",
       "       [ 3.3289566 , -0.70229721,  2.56173825]])"
      ]
     },
     "execution_count": 5,
     "metadata": {},
     "output_type": "execute_result"
    }
   ],
   "source": [
    "data[:, :3]"
   ]
  },
  {
   "cell_type": "code",
   "execution_count": 50,
   "metadata": {},
   "outputs": [
    {
     "data": {
      "text/plain": [
       "array([[101., 107.,  90.],\n",
       "       [ 88.,  83.,  78.],\n",
       "       [ 39.,  39.,  35.],\n",
       "       ...,\n",
       "       [242., 212., 144.],\n",
       "       [175., 161., 127.],\n",
       "       [179., 164., 128.]])"
      ]
     },
     "execution_count": 50,
     "metadata": {},
     "output_type": "execute_result"
    }
   ],
   "source": [
    "data[:, 3:6]"
   ]
  },
  {
   "cell_type": "code",
   "execution_count": 35,
   "metadata": {},
   "outputs": [
    {
     "data": {
      "text/plain": [
       "(81369, 8)"
      ]
     },
     "execution_count": 35,
     "metadata": {},
     "output_type": "execute_result"
    }
   ],
   "source": [
    "data.shape\n",
    "# (x, y, z, r, g, b, label, instance)"
   ]
  },
  {
   "cell_type": "code",
   "execution_count": 36,
   "metadata": {},
   "outputs": [
    {
     "data": {
      "text/plain": [
       "(81369, 3)"
      ]
     },
     "execution_count": 36,
     "metadata": {},
     "output_type": "execute_result"
    }
   ],
   "source": [
    "data[:, :3].shape\n",
    "# (x, y, z)"
   ]
  },
  {
   "cell_type": "code",
   "execution_count": 40,
   "metadata": {},
   "outputs": [
    {
     "data": {
      "text/plain": [
       "array([[101., 107.,  90.],\n",
       "       [ 88.,  83.,  78.],\n",
       "       [ 39.,  39.,  35.],\n",
       "       ...,\n",
       "       [242., 212., 144.],\n",
       "       [175., 161., 127.],\n",
       "       [179., 164., 128.]])"
      ]
     },
     "execution_count": 40,
     "metadata": {},
     "output_type": "execute_result"
    }
   ],
   "source": [
    "data[:, 3:6]"
   ]
  },
  {
   "cell_type": "code",
   "execution_count": 18,
   "metadata": {},
   "outputs": [
    {
     "data": {
      "text/plain": [
       "81369"
      ]
     },
     "execution_count": 18,
     "metadata": {},
     "output_type": "execute_result"
    }
   ],
   "source": [
    "len(data)"
   ]
  },
  {
   "cell_type": "markdown",
   "metadata": {},
   "source": [
    "# Read normal"
   ]
  },
  {
   "cell_type": "code",
   "execution_count": 8,
   "metadata": {},
   "outputs": [],
   "source": [
    "def load_ply(filepath):\n",
    "    with open(filepath, \"rb\") as f:\n",
    "        plydata = PlyData.read(f)\n",
    "    data = plydata.elements[0].data\n",
    "    coords = np.array([data[\"x\"], data[\"y\"], data[\"z\"]], dtype=np.float32).T\n",
    "    feats = None\n",
    "    labels = None\n",
    "    if ({\"red\", \"green\", \"blue\"} - set(data.dtype.names)) == set():\n",
    "        feats = np.array([data[\"red\"], data[\"green\"], data[\"blue\"]], dtype=np.uint8).T\n",
    "    if \"label\" in data.dtype.names:\n",
    "        labels = np.array(data[\"label\"], dtype=np.uint32)\n",
    "    return coords, feats, labels\n",
    "\n",
    "def load_ply_with_normals(filepath):\n",
    "    mesh = open3d.io.read_triangle_mesh(str(filepath))\n",
    "    if not mesh.has_vertex_normals():\n",
    "        mesh.compute_vertex_normals()\n",
    "    vertices = np.asarray(mesh.vertices)\n",
    "    normals = np.asarray(mesh.vertex_normals)\n",
    "    print(vertices)\n",
    "    print(\"=\"*10)\n",
    "    print(normals)\n",
    "\n",
    "    coords, feats, labels = load_ply(filepath)\n",
    "    assert np.allclose(coords, vertices), \"different coordinates\"\n",
    "    feats = np.hstack((feats, normals))\n",
    "\n",
    "    return coords, feats, labels"
   ]
  },
  {
   "cell_type": "code",
   "execution_count": 9,
   "metadata": {},
   "outputs": [
    {
     "name": "stdout",
     "output_type": "stream",
     "text": [
      "\u001b[1;33m[Open3D WARNING] geometry::TriangleMesh appears to be a geometry::PointCloud (only contains vertices, but no triangles).\u001b[0;m\n",
      "[[-3.41029572  1.22604847  0.19869943]\n",
      " [-3.39742899  1.25844002  0.19795202]\n",
      " [-3.41037989  1.1878475   0.10961316]\n",
      " ...\n",
      " [ 3.32770324 -0.70443457  2.51359797]\n",
      " [ 3.33274317 -0.67037743  2.5465734 ]\n",
      " [ 3.3289566  -0.70229721  2.56173825]]\n",
      "==========\n",
      "[[0. 0. 0.]\n",
      " [0. 0. 0.]\n",
      " [0. 0. 0.]\n",
      " ...\n",
      " [0. 0. 0.]\n",
      " [0. 0. 0.]\n",
      " [0. 0. 0.]]\n"
     ]
    }
   ],
   "source": [
    "train_root = './dataset'\n",
    "path = os.path.join(train_root, train_files[0])\n",
    "\n",
    "data = load_ply_with_normals(path)"
   ]
  },
  {
   "cell_type": "code",
   "execution_count": 12,
   "metadata": {},
   "outputs": [
    {
     "data": {
      "text/plain": [
       "array([21, 21, 21, ...,  1,  1,  1], dtype=uint32)"
      ]
     },
     "execution_count": 12,
     "metadata": {},
     "output_type": "execute_result"
    }
   ],
   "source": [
    "data[2]"
   ]
  },
  {
   "cell_type": "markdown",
   "metadata": {},
   "source": [
    "# ARB-loss\n",
    "- Ref: https://gist.github.com/yang-zhang/217dcc6ae9171d7a46ce42e215c1fee0"
   ]
  },
  {
   "cell_type": "code",
   "execution_count": 3,
   "metadata": {},
   "outputs": [],
   "source": [
    "import torch\n",
    "import torch.nn.functional as F"
   ]
  },
  {
   "cell_type": "code",
   "execution_count": 9,
   "metadata": {},
   "outputs": [
    {
     "data": {
      "text/plain": [
       "(torch.Size([5, 3]),\n",
       " tensor([[ 0.3511, -0.3870, -0.1297],\n",
       "         [ 1.6277,  1.5000, -0.1872],\n",
       "         [ 0.3714, -0.2828,  1.0229],\n",
       "         [ 1.6189,  1.1331, -1.2980],\n",
       "         [ 0.4319,  0.8472,  0.6264]]))"
      ]
     },
     "execution_count": 9,
     "metadata": {},
     "output_type": "execute_result"
    }
   ],
   "source": [
    "batch_size, n_classes = 5, 3\n",
    "x = torch.randn(batch_size, n_classes)\n",
    "# (bs, C)\n",
    "x.shape, x"
   ]
  },
  {
   "cell_type": "code",
   "execution_count": 15,
   "metadata": {},
   "outputs": [
    {
     "data": {
      "text/plain": [
       "tensor([2, 2, 0, 1, 0])"
      ]
     },
     "execution_count": 15,
     "metadata": {},
     "output_type": "execute_result"
    }
   ],
   "source": [
    "target = torch.randint(n_classes, size=(batch_size,), dtype=torch.long)\n",
    "target"
   ]
  },
  {
   "cell_type": "code",
   "execution_count": 16,
   "metadata": {},
   "outputs": [
    {
     "data": {
      "text/plain": [
       "tensor([0.4000, 0.2000, 0.4000])"
      ]
     },
     "execution_count": 16,
     "metadata": {},
     "output_type": "execute_result"
    }
   ],
   "source": [
    "weight_class = torch.bincount(target) / target.size(0)\n",
    "weight_class"
   ]
  },
  {
   "cell_type": "code",
   "execution_count": 17,
   "metadata": {},
   "outputs": [
    {
     "data": {
      "text/plain": [
       "tensor(1.4600)"
      ]
     },
     "execution_count": 17,
     "metadata": {},
     "output_type": "execute_result"
    }
   ],
   "source": [
    "pred = F.log_softmax(x, dim=-1)\n",
    "loss = F.nll_loss(pred, target)\n",
    "loss"
   ]
  },
  {
   "cell_type": "code",
   "execution_count": 18,
   "metadata": {},
   "outputs": [
    {
     "data": {
      "text/plain": [
       "tensor(1.5113)"
      ]
     },
     "execution_count": 18,
     "metadata": {},
     "output_type": "execute_result"
    }
   ],
   "source": [
    "pred = F.log_softmax(x, dim=-1)\n",
    "loss = F.nll_loss(pred, target, weight=weight_class)\n",
    "loss"
   ]
  },
  {
   "cell_type": "markdown",
   "metadata": {},
   "source": [
    "# Compute color mean and color std"
   ]
  },
  {
   "cell_type": "code",
   "execution_count": 23,
   "metadata": {},
   "outputs": [],
   "source": [
    "def read_txt(path):\n",
    "    data = []\n",
    "    with open(path) as f:\n",
    "        contents = f.readlines()\n",
    "        for content in contents:\n",
    "            data.append(content.strip())\n",
    "    return data"
   ]
  },
  {
   "cell_type": "code",
   "execution_count": 28,
   "metadata": {},
   "outputs": [],
   "source": [
    "root = './dataset'\n",
    "train_path, val_path = './train_split.txt', './val_split.txt'\n",
    "train_data_path, val_data_path = read_txt(train_path), read_txt(val_path)"
   ]
  },
  {
   "cell_type": "code",
   "execution_count": 48,
   "metadata": {},
   "outputs": [],
   "source": [
    "train_data, val_data = [], []\n",
    "for dp in train_data_path:\n",
    "    dp = os.path.join(root, dp)\n",
    "    train_data.append(\n",
    "        # get only RGB\n",
    "        read_plyfile(dp)[:, 3:6]\n",
    "        )\n",
    "for dp in val_data_path:\n",
    "    dp = os.path.join(root, dp)\n",
    "    val_data.append(\n",
    "        # get only RGB\n",
    "        read_plyfile(dp)[:, 3:6]\n",
    "        )"
   ]
  },
  {
   "cell_type": "code",
   "execution_count": 60,
   "metadata": {},
   "outputs": [],
   "source": [
    "train_color_mean, val_color_mean = [], []\n",
    "train_color_std, val_color_std = [], []\n",
    "\n",
    "for rgb in train_data:\n",
    "    train_color_mean.append(\n",
    "        [\n",
    "            float((rgb[:, 0] / 255).mean()),\n",
    "            float((rgb[:, 1] / 255).mean()),\n",
    "            float((rgb[:, 2] / 255).mean()),\n",
    "        ]\n",
    "    )\n",
    "    train_color_std.append(\n",
    "        [\n",
    "            float(((rgb[:, 0] / 255) ** 2).mean()),\n",
    "            float(((rgb[:, 1] / 255) ** 2).mean()),\n",
    "            float(((rgb[:, 2] / 255) ** 2).mean()),\n",
    "        ]\n",
    "    )\n",
    "\n",
    "for rgb in val_data:\n",
    "    val_color_mean.append(\n",
    "        [\n",
    "            float((rgb[:, 0] / 255).mean()),\n",
    "            float((rgb[:, 1] / 255).mean()),\n",
    "            float((rgb[:, 2] / 255).mean()),\n",
    "        ]\n",
    "    )\n",
    "    val_color_std.append(\n",
    "        [\n",
    "            float(((rgb[:, 0] / 255) ** 2).mean()),\n",
    "            float(((rgb[:, 1] / 255) ** 2).mean()),\n",
    "            float(((rgb[:, 2] / 255) ** 2).mean()),\n",
    "        ]\n",
    "    )"
   ]
  },
  {
   "cell_type": "code",
   "execution_count": 61,
   "metadata": {},
   "outputs": [],
   "source": [
    "def compute_color_mean_std(color_mean, color_std):\n",
    "    color_mean = np.array(color_mean).mean(axis=0)\n",
    "    color_std = np.sqrt(np.array(color_std).mean(axis=0) - color_mean ** 2)\n",
    "    feats_mean_std = {\n",
    "        \"mean\": [float(each) for each in color_mean],\n",
    "        \"std\": [float(each) for each in color_std],\n",
    "    }\n",
    "    return feats_mean_std"
   ]
  },
  {
   "cell_type": "code",
   "execution_count": 66,
   "metadata": {},
   "outputs": [
    {
     "data": {
      "text/plain": [
       "({'mean': [0.4764729909316615, 0.42902326580153166, 0.37332420105708963],\n",
       "  'std': [0.2837346299860227, 0.2754832225183542, 0.2691509161776033]},\n",
       " {'mean': [0.45397303778149745, 0.4050079317532427, 0.35046137096670843],\n",
       "  'std': [0.27850010265525965, 0.2683205838692733, 0.26240199032866635]})"
      ]
     },
     "execution_count": 66,
     "metadata": {},
     "output_type": "execute_result"
    }
   ],
   "source": [
    "train_color_mean_std = compute_color_mean_std(\n",
    "    train_color_mean, train_color_std\n",
    ")\n",
    "val_color_mean_std = compute_color_mean_std(\n",
    "    val_color_mean, val_color_std\n",
    ")"
   ]
  },
  {
   "cell_type": "code",
   "execution_count": 70,
   "metadata": {},
   "outputs": [],
   "source": [
    "with open('train_color_mean_std.npy', 'wb') as f:\n",
    "    np.save(f, train_color_mean_std['mean'])\n",
    "    np.save(f, train_color_mean_std['std'])\n",
    "\n",
    "with open('val_color_mean_std.npy', 'wb') as f:\n",
    "    np.save(f, val_color_mean_std['mean'])\n",
    "    np.save(f, val_color_mean_std['std'])"
   ]
  },
  {
   "cell_type": "code",
   "execution_count": 71,
   "metadata": {},
   "outputs": [],
   "source": [
    "with open('train_color_mean_std.npy', 'rb') as f:\n",
    "    train_color_mean = np.load(f)\n",
    "    train_color_std = np.load(f)\n",
    "\n",
    "with open('val_color_mean_std.npy', 'rb') as f:\n",
    "    val_color_mean = np.load(f)\n",
    "    val_color_std = np.load(f)"
   ]
  },
  {
   "cell_type": "code",
   "execution_count": 72,
   "metadata": {},
   "outputs": [
    {
     "data": {
      "text/plain": [
       "(array([0.47647299, 0.42902327, 0.3733242 ]),\n",
       " array([0.28373463, 0.27548322, 0.26915092]),\n",
       " array([0.45397304, 0.40500793, 0.35046137]),\n",
       " array([0.2785001 , 0.26832058, 0.26240199]))"
      ]
     },
     "execution_count": 72,
     "metadata": {},
     "output_type": "execute_result"
    }
   ],
   "source": [
    "train_color_mean, train_color_std, \\\n",
    "    val_color_mean, val_color_std"
   ]
  },
  {
   "cell_type": "markdown",
   "metadata": {},
   "source": [
    "# Test data aug"
   ]
  },
  {
   "cell_type": "code",
   "execution_count": 3,
   "metadata": {},
   "outputs": [
    {
     "ename": "ImportError",
     "evalue": "/lib/x86_64-linux-gnu/libm.so.6: version `GLIBC_2.29' not found (required by /home/guest/r11922a05/anaconda3/envs/lg_semseg/lib/python3.8/site-packages/MinkowskiEngineBackend/_C.cpython-38-x86_64-linux-gnu.so)",
     "output_type": "error",
     "traceback": [
      "\u001b[0;31m---------------------------------------------------------------------------\u001b[0m",
      "\u001b[0;31mImportError\u001b[0m                               Traceback (most recent call last)",
      "\u001b[1;32m/home/guest/r11922a05/DLCV/Final/final-project-challenge-2-a_3l2h/read_data.ipynb Cell 32\u001b[0m in \u001b[0;36m<cell line: 1>\u001b[0;34m()\u001b[0m\n\u001b[0;32m----> <a href='vscode-notebook-cell://ssh-remote%2Bircuda8/home/guest/r11922a05/DLCV/Final/final-project-challenge-2-a_3l2h/read_data.ipynb#Y113sdnNjb2RlLXJlbW90ZQ%3D%3D?line=0'>1</a>\u001b[0m \u001b[39mfrom\u001b[39;00m \u001b[39ma_3l2h\u001b[39;00m\u001b[39m.\u001b[39;00m\u001b[39mdata_aug\u001b[39;00m \u001b[39mimport\u001b[39;00m SemanticSegmentationDataset\n",
      "File \u001b[0;32m~/DLCV/Final/final-project-challenge-2-a_3l2h/a_3l2h/data_aug.py:9\u001b[0m, in \u001b[0;36m<module>\u001b[0;34m\u001b[0m\n\u001b[1;32m      6\u001b[0m \u001b[39mimport\u001b[39;00m \u001b[39mlogging\u001b[39;00m\n\u001b[1;32m      7\u001b[0m \u001b[39mimport\u001b[39;00m \u001b[39mos\u001b[39;00m\n\u001b[0;32m----> 9\u001b[0m \u001b[39mimport\u001b[39;00m \u001b[39mMinkowskiEngine\u001b[39;00m \u001b[39mas\u001b[39;00m \u001b[39mME\u001b[39;00m\n\u001b[1;32m     10\u001b[0m \u001b[39mimport\u001b[39;00m \u001b[39mnumpy\u001b[39;00m \u001b[39mas\u001b[39;00m \u001b[39mnp\u001b[39;00m\n\u001b[1;32m     11\u001b[0m \u001b[39mimport\u001b[39;00m \u001b[39malbumentations\u001b[39;00m \u001b[39mas\u001b[39;00m \u001b[39mA\u001b[39;00m\n",
      "File \u001b[0;32m~/anaconda3/envs/lg_semseg/lib/python3.8/site-packages/MinkowskiEngine/__init__.py:53\u001b[0m, in \u001b[0;36m<module>\u001b[0;34m\u001b[0m\n\u001b[1;32m     49\u001b[0m \u001b[39mimport\u001b[39;00m \u001b[39mtorch\u001b[39;00m\n\u001b[1;32m     51\u001b[0m \u001b[39mfrom\u001b[39;00m \u001b[39mdiagnostics\u001b[39;00m \u001b[39mimport\u001b[39;00m print_diagnostics\n\u001b[0;32m---> 53\u001b[0m \u001b[39mfrom\u001b[39;00m \u001b[39mMinkowskiEngineBackend\u001b[39;00m\u001b[39m.\u001b[39;00m\u001b[39m_C\u001b[39;00m \u001b[39mimport\u001b[39;00m (\n\u001b[1;32m     54\u001b[0m     MinkowskiAlgorithm,\n\u001b[1;32m     55\u001b[0m     CoordinateMapKey,\n\u001b[1;32m     56\u001b[0m     GPUMemoryAllocatorType,\n\u001b[1;32m     57\u001b[0m     CoordinateMapType,\n\u001b[1;32m     58\u001b[0m     RegionType,\n\u001b[1;32m     59\u001b[0m     PoolingMode,\n\u001b[1;32m     60\u001b[0m     BroadcastMode,\n\u001b[1;32m     61\u001b[0m     is_cuda_available,\n\u001b[1;32m     62\u001b[0m     cuda_version,\n\u001b[1;32m     63\u001b[0m     cudart_version,\n\u001b[1;32m     64\u001b[0m     get_gpu_memory_info,\n\u001b[1;32m     65\u001b[0m )\n\u001b[1;32m     67\u001b[0m \u001b[39mfrom\u001b[39;00m \u001b[39mMinkowskiKernelGenerator\u001b[39;00m \u001b[39mimport\u001b[39;00m (\n\u001b[1;32m     68\u001b[0m     KernelRegion,\n\u001b[1;32m     69\u001b[0m     KernelGenerator,\n\u001b[1;32m     70\u001b[0m     convert_region_type,\n\u001b[1;32m     71\u001b[0m     get_kernel_volume,\n\u001b[1;32m     72\u001b[0m )\n\u001b[1;32m     74\u001b[0m \u001b[39mfrom\u001b[39;00m \u001b[39mMinkowskiTensor\u001b[39;00m \u001b[39mimport\u001b[39;00m (\n\u001b[1;32m     75\u001b[0m     SparseTensorOperationMode,\n\u001b[1;32m     76\u001b[0m     SparseTensorQuantizationMode,\n\u001b[0;32m   (...)\u001b[0m\n\u001b[1;32m     81\u001b[0m     clear_global_coordinate_manager,\n\u001b[1;32m     82\u001b[0m )\n",
      "\u001b[0;31mImportError\u001b[0m: /lib/x86_64-linux-gnu/libm.so.6: version `GLIBC_2.29' not found (required by /home/guest/r11922a05/anaconda3/envs/lg_semseg/lib/python3.8/site-packages/MinkowskiEngineBackend/_C.cpython-38-x86_64-linux-gnu.so)"
     ]
    }
   ],
   "source": [
    "from a_3l2h.data_aug import SemanticSegmentationDataset"
   ]
  }
 ],
 "metadata": {
  "kernelspec": {
   "display_name": "Python 3.8.13 ('lg_semseg')",
   "language": "python",
   "name": "python3"
  },
  "language_info": {
   "codemirror_mode": {
    "name": "ipython",
    "version": 3
   },
   "file_extension": ".py",
   "mimetype": "text/x-python",
   "name": "python",
   "nbconvert_exporter": "python",
   "pygments_lexer": "ipython3",
   "version": "3.8.13"
  },
  "orig_nbformat": 4,
  "vscode": {
   "interpreter": {
    "hash": "ac79319729ac97461b86feb62820fc8672c847cb217d1afa9bb10b6c65819223"
   }
  }
 },
 "nbformat": 4,
 "nbformat_minor": 2
}
