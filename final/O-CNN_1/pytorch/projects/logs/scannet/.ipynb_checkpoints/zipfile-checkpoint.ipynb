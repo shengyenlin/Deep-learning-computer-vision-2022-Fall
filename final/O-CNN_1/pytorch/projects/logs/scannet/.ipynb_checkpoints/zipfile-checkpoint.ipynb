{
 "cells": [
  {
   "cell_type": "code",
   "execution_count": 9,
   "id": "620cc724",
   "metadata": {},
   "outputs": [
    {
     "data": {
      "text/plain": [
       "'/workspace/O-CNN/pytorch/projects/logs/scannet/v1000_vote_seg.zip'"
      ]
     },
     "execution_count": 9,
     "metadata": {},
     "output_type": "execute_result"
    }
   ],
   "source": [
    "import shutil\n",
    "shutil.make_archive('ocnn_1000', 'zip', './v1000_eval_seg')"
   ]
  }
 ],
 "metadata": {
  "kernelspec": {
   "display_name": "ocnn",
   "language": "python",
   "name": "pytorch-1.9.0"
  },
  "language_info": {
   "codemirror_mode": {
    "name": "ipython",
    "version": 3
   },
   "file_extension": ".py",
   "mimetype": "text/x-python",
   "name": "python",
   "nbconvert_exporter": "python",
   "pygments_lexer": "ipython3",
   "version": "3.7.15"
  }
 },
 "nbformat": 4,
 "nbformat_minor": 5
}
