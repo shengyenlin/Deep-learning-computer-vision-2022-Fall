{
 "cells": [
  {
   "cell_type": "code",
   "execution_count": 1,
   "metadata": {},
   "outputs": [
    {
     "name": "stderr",
     "output_type": "stream",
     "text": [
      "/home/guest/r11922a05/anaconda3/envs/DLCV/lib/python3.8/site-packages/tqdm/auto.py:22: TqdmWarning: IProgress not found. Please update jupyter and ipywidgets. See https://ipywidgets.readthedocs.io/en/stable/user_install.html\n",
      "  from .autonotebook import tqdm as notebook_tqdm\n"
     ]
    }
   ],
   "source": [
    "import os\n",
    "import gc\n",
    "import time\n",
    "import random\n",
    "from tqdm import tqdm\n",
    "\n",
    "import numpy as np\n",
    "import torch\n",
    "import torch.nn as nn\n",
    "import torch.optim as optim\n",
    "from torchvision import transforms, models, datasets\n",
    "from torchvision.transforms.functional import InterpolationMode\n",
    "from torchvision.models.segmentation.fcn import FCNHead\n",
    "from torchvision.models.segmentation.deeplabv3 import DeepLabV3, DeepLabHead\n",
    "from torch.utils.data import DataLoader, Dataset, SubsetRandomSampler\n",
    "from torch.utils.data.dataloader import default_collate\n",
    "from torchvision.models.segmentation import deeplabv3_resnet101\n",
    "from PIL import Image\n",
    "import imageio.v2 as imageio"
   ]
  },
  {
   "cell_type": "code",
   "execution_count": 4,
   "metadata": {},
   "outputs": [],
   "source": [
    "tmp = models.vgg16(weights='IMAGENET1K_V1')"
   ]
  },
  {
   "cell_type": "code",
   "execution_count": 6,
   "metadata": {},
   "outputs": [
    {
     "data": {
      "text/plain": [
       "VGG(\n",
       "  (features): Sequential(\n",
       "    (0): Conv2d(3, 64, kernel_size=(3, 3), stride=(1, 1), padding=(1, 1))\n",
       "    (1): ReLU(inplace=True)\n",
       "    (2): Conv2d(64, 64, kernel_size=(3, 3), stride=(1, 1), padding=(1, 1))\n",
       "    (3): ReLU(inplace=True)\n",
       "    (4): MaxPool2d(kernel_size=2, stride=2, padding=0, dilation=1, ceil_mode=False)\n",
       "    (5): Conv2d(64, 128, kernel_size=(3, 3), stride=(1, 1), padding=(1, 1))\n",
       "    (6): ReLU(inplace=True)\n",
       "    (7): Conv2d(128, 128, kernel_size=(3, 3), stride=(1, 1), padding=(1, 1))\n",
       "    (8): ReLU(inplace=True)\n",
       "    (9): MaxPool2d(kernel_size=2, stride=2, padding=0, dilation=1, ceil_mode=False)\n",
       "    (10): Conv2d(128, 256, kernel_size=(3, 3), stride=(1, 1), padding=(1, 1))\n",
       "    (11): ReLU(inplace=True)\n",
       "    (12): Conv2d(256, 256, kernel_size=(3, 3), stride=(1, 1), padding=(1, 1))\n",
       "    (13): ReLU(inplace=True)\n",
       "    (14): Conv2d(256, 256, kernel_size=(3, 3), stride=(1, 1), padding=(1, 1))\n",
       "    (15): ReLU(inplace=True)\n",
       "    (16): MaxPool2d(kernel_size=2, stride=2, padding=0, dilation=1, ceil_mode=False)\n",
       "    (17): Conv2d(256, 512, kernel_size=(3, 3), stride=(1, 1), padding=(1, 1))\n",
       "    (18): ReLU(inplace=True)\n",
       "    (19): Conv2d(512, 512, kernel_size=(3, 3), stride=(1, 1), padding=(1, 1))\n",
       "    (20): ReLU(inplace=True)\n",
       "    (21): Conv2d(512, 512, kernel_size=(3, 3), stride=(1, 1), padding=(1, 1))\n",
       "    (22): ReLU(inplace=True)\n",
       "    (23): MaxPool2d(kernel_size=2, stride=2, padding=0, dilation=1, ceil_mode=False)\n",
       "    (24): Conv2d(512, 512, kernel_size=(3, 3), stride=(1, 1), padding=(1, 1))\n",
       "    (25): ReLU(inplace=True)\n",
       "    (26): Conv2d(512, 512, kernel_size=(3, 3), stride=(1, 1), padding=(1, 1))\n",
       "    (27): ReLU(inplace=True)\n",
       "    (28): Conv2d(512, 512, kernel_size=(3, 3), stride=(1, 1), padding=(1, 1))\n",
       "    (29): ReLU(inplace=True)\n",
       "    (30): MaxPool2d(kernel_size=2, stride=2, padding=0, dilation=1, ceil_mode=False)\n",
       "  )\n",
       "  (avgpool): AdaptiveAvgPool2d(output_size=(7, 7))\n",
       "  (classifier): Sequential(\n",
       "    (0): Linear(in_features=25088, out_features=4096, bias=True)\n",
       "    (1): ReLU(inplace=True)\n",
       "    (2): Dropout(p=0.5, inplace=False)\n",
       "    (3): Linear(in_features=4096, out_features=4096, bias=True)\n",
       "    (4): ReLU(inplace=True)\n",
       "    (5): Dropout(p=0.5, inplace=False)\n",
       "    (6): Linear(in_features=4096, out_features=1000, bias=True)\n",
       "  )\n",
       ")"
      ]
     },
     "execution_count": 6,
     "metadata": {},
     "output_type": "execute_result"
    }
   ],
   "source": [
    "tmp"
   ]
  },
  {
   "cell_type": "code",
   "execution_count": 2,
   "metadata": {},
   "outputs": [],
   "source": [
    "SEED = 5566\n",
    "use_gpu = torch.cuda.is_available()\n",
    "device = torch.device(\"cuda\" if use_gpu else \"cpu\")\n",
    "torch.backends.cudnn.deterministic = True\n",
    "torch.backends.cudnn.benchmark = False\n",
    "torch.manual_seed(SEED)\n",
    "torch.cuda.manual_seed_all(SEED)\n",
    "random.seed(SEED)\n",
    "np.random.seed(SEED)"
   ]
  },
  {
   "cell_type": "code",
   "execution_count": 3,
   "metadata": {},
   "outputs": [],
   "source": [
    "IMG_FILE = 'hw1_data/p2_data'\n",
    "TRAIN_PATH = 'hw1_data/p2_data/train'\n",
    "VAL_PATH = 'hw1_data/p2_data/validation'\n",
    "TRAIN_NUM_PIC = 2000\n",
    "VAL_NUM_PIC = 257\n",
    "NUM_CLASS = 7"
   ]
  },
  {
   "cell_type": "markdown",
   "metadata": {},
   "source": [
    "# Dataset"
   ]
  },
  {
   "cell_type": "code",
   "execution_count": 4,
   "metadata": {},
   "outputs": [],
   "source": [
    "class P2Dataset(Dataset):\n",
    "    def __init__(self, path, transform=None):\n",
    "        self.path = path\n",
    "        self.data = None #3x512x512\n",
    "        self.labels = None\n",
    "        self.load_image_p2(path)\n",
    "        self.transform = transform\n",
    "\n",
    "    def __len__(self):\n",
    "        return len(self.data)\n",
    "    \n",
    "    def __getitem__(self, idx):\n",
    "        img = self.read_img(idx)\n",
    "        # img = torch.from_numpy(img).type(torch.LongTensor)\n",
    "        label = self.read_mask(idx)\n",
    "        label = torch.from_numpy(label)\n",
    "        # label = torch.from_numpy(label).type(torch.LongTensor)\n",
    "        return img, label\n",
    "\n",
    "    def read_img(self, idx):\n",
    "        path = os.path.join(self.path, self.data[idx])\n",
    "        img = imageio.imread(path)\n",
    "        if self.transform is not None:\n",
    "            img = self.transform(img)\n",
    "        return img\n",
    "\n",
    "    def read_mask(self, idx):\n",
    "        path = os.path.join(self.path, self.labels[idx])\n",
    "        mask = imageio.imread(path) #512x512x3\n",
    "        masks = np.empty((mask.shape[0],mask.shape[1]))\n",
    "\n",
    "        #load mask\n",
    "        mask = (mask >= 128).astype(int)\n",
    "        #512x512x3 -> 512x512\n",
    "        mask = 4 * mask[:, :, 0] + 2 * mask[:, :, 1] + mask[:, :, 2]\n",
    "        masks[mask == 3] = 0  # (Cyan: 011) Urban land \n",
    "        masks[mask == 6] = 1  # (Yellow: 110) Agriculture land \n",
    "        masks[mask == 5] = 2  # (Purple: 101) Rangeland \n",
    "        masks[mask == 2] = 3  # (Green: 010) Forest land \n",
    "        masks[mask == 1] = 4  # (Blue: 001) Water \n",
    "        masks[mask == 7] = 5  # (White: 111) Barren land \n",
    "        masks[mask == 0] = 6  # (Black: 000) Unknown \n",
    "        return masks\n",
    "\n",
    "    def load_image_p2(self, path):\n",
    "        data, labels = [], []\n",
    "        path = os.listdir(path)\n",
    "        path = sorted(path)\n",
    "        for img_name in path:\n",
    "            file_name = img_name.split('.')\n",
    "            #data\n",
    "            if file_name[1] == 'jpg':\n",
    "                data.append(img_name)\n",
    "            #label\n",
    "            elif file_name[1] == 'png':\n",
    "                labels.append(img_name)\n",
    "        self.data = data\n",
    "        self.labels = labels"
   ]
  },
  {
   "cell_type": "code",
   "execution_count": null,
   "metadata": {},
   "outputs": [],
   "source": [
    "class P2_TransformsModelA:\n",
    "    def __init__(self):\n",
    "        self.normalize = transforms.Normalize(\n",
    "            mean=[0.485, 0.456, 0.406],\n",
    "            std=[0.229, 0.224, 0.225]\n",
    "            )\n",
    "        \n",
    "        self.transform = {\n",
    "            'train': transforms.Compose([\n",
    "                # transforms.RandomResizedCrop(224),\n",
    "                transforms.ToTensor(),\n",
    "                self.normalize,\n",
    "            ]),\n",
    "            'val':  transforms.Compose([\n",
    "                # transforms.Resize(224),\n",
    "                transforms.ToTensor(),\n",
    "                self.normalize,\n",
    "            ])\n",
    "        }"
   ]
  },
  {
   "cell_type": "code",
   "execution_count": 11,
   "metadata": {},
   "outputs": [],
   "source": [
    "customized_transform = P2_TransformsModelA()\n",
    "\n",
    "train_dataset = P2Dataset(\n",
    "    TRAIN_PATH, transform=customized_transform.transform['train']\n",
    "    )\n",
    "val_dataset = P2Dataset(\n",
    "    VAL_PATH,  transform=customized_transform.transform['val']\n",
    "    )\n",
    "\n",
    "batch_size = 12\n",
    "train_loader = DataLoader(\n",
    "    train_dataset, batch_size=batch_size, \n",
    "    )\n",
    "val_loader = DataLoader(\n",
    "    val_dataset, batch_size=batch_size,\n",
    ") "
   ]
  },
  {
   "cell_type": "markdown",
   "metadata": {},
   "source": [
    "# Model"
   ]
  },
  {
   "cell_type": "markdown",
   "metadata": {},
   "source": [
    "## VGG16-FCN32"
   ]
  },
  {
   "cell_type": "code",
   "execution_count": 9,
   "metadata": {},
   "outputs": [],
   "source": [
    "class VGG16_FCN32(torch.nn.Module):\n",
    "    def __init__(self, n_classes):\n",
    "        super(VGG16_FCN32, self).__init__()\n",
    "        self.features = models.vgg16(weights='IMAGENET1K_V1').features \n",
    "        self.fc6 = nn.Sequential(\n",
    "            nn.Conv2d(512, 4096, 2), #kernel = 7x7?\n",
    "            nn.ReLU(inplace=True),\n",
    "            nn.Dropout() #dropout2d?\n",
    "        )\n",
    "        self.fc7 = nn.Sequential(\n",
    "            nn.Conv2d(4096, 4096, 1),\n",
    "            nn.ReLU(inplace=True),\n",
    "            nn.Dropout() #dropout2d?\n",
    "        )\n",
    "        self.clf = nn.Conv2d(4096, n_classes, 1)\n",
    "        self.upconv = nn.ConvTranspose2d(\n",
    "            n_classes, n_classes, kernel_size=64, stride=32, bias=False\n",
    "            )\n",
    "\n",
    "    def forward(self, x): #3x512x512\n",
    "        x = self.features(x) #512x8x8\n",
    "        x = self.fc6(x) #4096x7x7\n",
    "        x = self.fc7(x) #4096x7x7\n",
    "        x = self.clf (x) #7x7x7\n",
    "        x = self.upconv(x) #7x512x512 (upsample 32x)\n",
    "        #print(x.size())\n",
    "        return x"
   ]
  },
  {
   "cell_type": "code",
   "execution_count": null,
   "metadata": {},
   "outputs": [],
   "source": [
    "def train_P2(train_loader, model, loss_fn, optimizer, device):\n",
    "    train_loss = []\n",
    "    train_iou = []\n",
    "    model.train()\n",
    "    for img, label in tqdm(train_loader, leave=False, colour='green'):\n",
    "        \n",
    "        img, label = img.to(device), label.to(device)\n",
    "\n",
    "        optimizer.zero_grad()\n",
    "        output = model(img)\n",
    "\n",
    "        loss = loss_fn(output, label) \n",
    "        loss.backward()            \n",
    "        optimizer.step()\n",
    "        \n",
    "        with torch.no_grad():\n",
    "            predict = torch.argmax(output, dim=1)\n",
    "            predict = predict.detach().cpu().numpy() #numpy array\n",
    "            label = label.detach().cpu().numpy() \n",
    "            iou = mean_iou_score(predict, label)\n",
    "            loss = loss.item() #python float\n",
    "            train_iou.append(iou)\n",
    "            train_loss.append(loss) \n",
    "        \n",
    "        del img, label, output, loss, predict, iou\n",
    "        \n",
    "    train_iou = np.mean(train_iou)\n",
    "    train_loss = np.mean(train_loss)\n",
    "    return train_iou, train_loss\n",
    "\n",
    "\n",
    "def valid_P2(valid_loader, model, loss_fn, device):\n",
    "    model.eval()\n",
    "    with torch.no_grad():\n",
    "        valid_loss = []\n",
    "        valid_iou = []\n",
    "        for img, label in valid_loader:\n",
    "            img, label = img.to(device), label.to(device)\n",
    "            \n",
    "            output = model(img) \n",
    "            loss = loss_fn(output, label)\n",
    "            \n",
    "            predict = torch.argmax(output, dim=1)\n",
    "            predict = predict.detach().cpu().numpy()\n",
    "            label = label.detach().cpu().numpy()\n",
    "\n",
    "            iou = mean_iou_score(predict, label)\n",
    "\n",
    "            loss = loss.item()\n",
    "            valid_loss.append(loss)\n",
    "            valid_iou.append(iou)\n",
    "            del img, label, output, loss, predict, iou\n",
    "            \n",
    "\n",
    "    valid_iou = np.mean(valid_iou)\n",
    "    valid_loss = np.mean(valid_loss)\n",
    "    return valid_iou, valid_loss"
   ]
  },
  {
   "cell_type": "code",
   "execution_count": 12,
   "metadata": {},
   "outputs": [],
   "source": [
    "modelA = VGG16_FCN32(NUM_CLASS)\n",
    "modelA = modelA.to(device)\n",
    "optimizer = optim.SGD(\n",
    "    modelA.parameters(),lr=0.0001,\n",
    "    momentum=0.9\n",
    "    )\n",
    "#input: [0.5, 0.2, 0.6] \n",
    "#target: [1, 0, 1]\n",
    "loss_fn = nn.CrossEntropyLoss() \n",
    "\n",
    "num_epoch = 200"
   ]
  },
  {
   "cell_type": "code",
   "execution_count": 27,
   "metadata": {},
   "outputs": [
    {
     "name": "stdout",
     "output_type": "stream",
     "text": [
      "lr = 0.0001, weight_decay = 0.001\n"
     ]
    },
    {
     "name": "stderr",
     "output_type": "stream",
     "text": [
      "                                                 1.11it/s]\r"
     ]
    },
    {
     "name": "stdout",
     "output_type": "stream",
     "text": [
      "Epoch 1: 2.96 min elapsed, train iou: 13.35%, train loss: 1.105, valid iou: 23.21%, valid loss: 0.862\n"
     ]
    },
    {
     "name": "stderr",
     "output_type": "stream",
     "text": [
      "                                                 1.11it/s]\r"
     ]
    },
    {
     "name": "stdout",
     "output_type": "stream",
     "text": [
      "Epoch 2: 5.93 min elapsed, train iou: 32.92%, train loss: 0.742, valid iou: 39.04%, valid loss: 0.708\n"
     ]
    },
    {
     "name": "stderr",
     "output_type": "stream",
     "text": [
      "                                                 1.12it/s]\r"
     ]
    },
    {
     "name": "stdout",
     "output_type": "stream",
     "text": [
      "Epoch 3: 8.91 min elapsed, train iou: 43.96%, train loss: 0.622, valid iou: 43.76%, valid loss: 0.689\n"
     ]
    },
    {
     "name": "stderr",
     "output_type": "stream",
     "text": [
      "                                                 1.10it/s]\r"
     ]
    },
    {
     "name": "stdout",
     "output_type": "stream",
     "text": [
      "Epoch 4: 11.9 min elapsed, train iou: 45.35%, train loss: 0.604, valid iou: 44.3%, valid loss: 0.681\n"
     ]
    },
    {
     "name": "stderr",
     "output_type": "stream",
     "text": [
      "                                                 1.09it/s]\r"
     ]
    },
    {
     "name": "stdout",
     "output_type": "stream",
     "text": [
      "Epoch 5: 14.94 min elapsed, train iou: 47.25%, train loss: 0.565, valid iou: 48.69%, valid loss: 0.529\n"
     ]
    },
    {
     "name": "stderr",
     "output_type": "stream",
     "text": [
      "                                                 1.11it/s]\r"
     ]
    },
    {
     "name": "stdout",
     "output_type": "stream",
     "text": [
      "Epoch 6: 17.92 min elapsed, train iou: 48.46%, train loss: 0.534, valid iou: 46.55%, valid loss: 0.6\n"
     ]
    },
    {
     "name": "stderr",
     "output_type": "stream",
     "text": [
      "                                                 1.11it/s]\r"
     ]
    },
    {
     "name": "stdout",
     "output_type": "stream",
     "text": [
      "Epoch 7: 20.89 min elapsed, train iou: 49.16%, train loss: 0.516, valid iou: 48.56%, valid loss: 0.543\n"
     ]
    },
    {
     "name": "stderr",
     "output_type": "stream",
     "text": [
      "                                                 1.11it/s]\r"
     ]
    },
    {
     "name": "stdout",
     "output_type": "stream",
     "text": [
      "Epoch 8: 23.86 min elapsed, train iou: 49.82%, train loss: 0.501, valid iou: 49.71%, valid loss: 0.513\n"
     ]
    },
    {
     "name": "stderr",
     "output_type": "stream",
     "text": [
      "                                                 1.11it/s]\r"
     ]
    },
    {
     "name": "stdout",
     "output_type": "stream",
     "text": [
      "Epoch 9: 26.82 min elapsed, train iou: 50.55%, train loss: 0.49, valid iou: 50.47%, valid loss: 0.483\n"
     ]
    },
    {
     "name": "stderr",
     "output_type": "stream",
     "text": [
      "                                                 1.11it/s]\r"
     ]
    },
    {
     "name": "stdout",
     "output_type": "stream",
     "text": [
      "Epoch 10: 29.79 min elapsed, train iou: 51.34%, train loss: 0.484, valid iou: 48.44%, valid loss: 0.557\n"
     ]
    },
    {
     "name": "stderr",
     "output_type": "stream",
     "text": [
      "                                                 1.12it/s]\r"
     ]
    },
    {
     "name": "stdout",
     "output_type": "stream",
     "text": [
      "Epoch 11: 32.77 min elapsed, train iou: 52.62%, train loss: 0.469, valid iou: 51.29%, valid loss: 0.512\n"
     ]
    },
    {
     "name": "stderr",
     "output_type": "stream",
     "text": [
      "                                                 1.12it/s]\r"
     ]
    },
    {
     "name": "stdout",
     "output_type": "stream",
     "text": [
      "Epoch 12: 35.73 min elapsed, train iou: 53.47%, train loss: 0.455, valid iou: 52.32%, valid loss: 0.509\n"
     ]
    },
    {
     "name": "stderr",
     "output_type": "stream",
     "text": [
      "                                                 1.11it/s]\r"
     ]
    },
    {
     "name": "stdout",
     "output_type": "stream",
     "text": [
      "Epoch 13: 38.7 min elapsed, train iou: 54.22%, train loss: 0.445, valid iou: 51.5%, valid loss: 0.532\n"
     ]
    },
    {
     "name": "stderr",
     "output_type": "stream",
     "text": [
      "                                                 1.11it/s]\r"
     ]
    },
    {
     "name": "stdout",
     "output_type": "stream",
     "text": [
      "Epoch 14: 41.67 min elapsed, train iou: 54.83%, train loss: 0.437, valid iou: 49.99%, valid loss: 0.57\n"
     ]
    },
    {
     "name": "stderr",
     "output_type": "stream",
     "text": [
      "                                                 1.11it/s]\r"
     ]
    },
    {
     "name": "stdout",
     "output_type": "stream",
     "text": [
      "Epoch 15: 44.64 min elapsed, train iou: 55.28%, train loss: 0.428, valid iou: 47.53%, valid loss: 0.634\n"
     ]
    },
    {
     "name": "stderr",
     "output_type": "stream",
     "text": [
      "                                                 1.12it/s]\r"
     ]
    },
    {
     "name": "stdout",
     "output_type": "stream",
     "text": [
      "Epoch 16: 47.6 min elapsed, train iou: 55.9%, train loss: 0.418, valid iou: 49.15%, valid loss: 0.586\n"
     ]
    },
    {
     "name": "stderr",
     "output_type": "stream",
     "text": [
      "                                                 1.12it/s]\r"
     ]
    },
    {
     "name": "stdout",
     "output_type": "stream",
     "text": [
      "Epoch 17: 50.57 min elapsed, train iou: 56.65%, train loss: 0.405, valid iou: 51.59%, valid loss: 0.544\n"
     ]
    },
    {
     "name": "stderr",
     "output_type": "stream",
     "text": [
      "                                                 1.10it/s]\r"
     ]
    },
    {
     "name": "stdout",
     "output_type": "stream",
     "text": [
      "Epoch 18: 53.55 min elapsed, train iou: 57.12%, train loss: 0.396, valid iou: 51.26%, valid loss: 0.535\n",
      "########################################################\n",
      "Finish model tuning\n",
      "Best epoch is 11, Iou: 0.5231739510684311, Loss: 0.5094862485473807\n",
      "########################################################\n",
      "lr = 0.0001, weight_decay = 0.0001\n"
     ]
    },
    {
     "name": "stderr",
     "output_type": "stream",
     "text": [
      "                                                 1.11it/s]\r"
     ]
    },
    {
     "name": "stdout",
     "output_type": "stream",
     "text": [
      "Epoch 1: 2.97 min elapsed, train iou: 18.97%, train loss: 1.028, valid iou: 36.87%, valid loss: 0.726\n"
     ]
    },
    {
     "name": "stderr",
     "output_type": "stream",
     "text": [
      "                                                 1.11it/s]\r"
     ]
    },
    {
     "name": "stdout",
     "output_type": "stream",
     "text": [
      "Epoch 2: 5.92 min elapsed, train iou: 37.88%, train loss: 0.686, valid iou: 36.43%, valid loss: 0.774\n"
     ]
    },
    {
     "name": "stderr",
     "output_type": "stream",
     "text": [
      "                                                 1.11it/s]\r"
     ]
    },
    {
     "name": "stdout",
     "output_type": "stream",
     "text": [
      "Epoch 3: 8.89 min elapsed, train iou: 44.71%, train loss: 0.602, valid iou: 43.21%, valid loss: 0.726\n"
     ]
    },
    {
     "name": "stderr",
     "output_type": "stream",
     "text": [
      "                                                 1.11it/s]\r"
     ]
    },
    {
     "name": "stdout",
     "output_type": "stream",
     "text": [
      "Epoch 4: 11.87 min elapsed, train iou: 47.73%, train loss: 0.552, valid iou: 46.23%, valid loss: 0.625\n"
     ]
    },
    {
     "name": "stderr",
     "output_type": "stream",
     "text": [
      "                                                 1.12it/s]\r"
     ]
    },
    {
     "name": "stdout",
     "output_type": "stream",
     "text": [
      "Epoch 5: 14.84 min elapsed, train iou: 49.72%, train loss: 0.502, valid iou: 50.09%, valid loss: 0.506\n"
     ]
    },
    {
     "name": "stderr",
     "output_type": "stream",
     "text": [
      "                                                 1.11it/s]\r"
     ]
    },
    {
     "name": "stdout",
     "output_type": "stream",
     "text": [
      "Epoch 6: 17.82 min elapsed, train iou: 52.18%, train loss: 0.463, valid iou: 52.46%, valid loss: 0.469\n"
     ]
    },
    {
     "name": "stderr",
     "output_type": "stream",
     "text": [
      "                                                 1.11it/s]\r"
     ]
    },
    {
     "name": "stdout",
     "output_type": "stream",
     "text": [
      "Epoch 7: 20.79 min elapsed, train iou: 54.79%, train loss: 0.435, valid iou: 54.06%, valid loss: 0.475\n"
     ]
    },
    {
     "name": "stderr",
     "output_type": "stream",
     "text": [
      "                                                 1.11it/s]\r"
     ]
    },
    {
     "name": "stdout",
     "output_type": "stream",
     "text": [
      "Epoch 8: 23.75 min elapsed, train iou: 56.94%, train loss: 0.398, valid iou: 54.83%, valid loss: 0.467\n"
     ]
    },
    {
     "name": "stderr",
     "output_type": "stream",
     "text": [
      "                                                 1.11it/s]\r"
     ]
    },
    {
     "name": "stdout",
     "output_type": "stream",
     "text": [
      "Epoch 9: 26.71 min elapsed, train iou: 58.03%, train loss: 0.381, valid iou: 51.54%, valid loss: 0.534\n"
     ]
    },
    {
     "name": "stderr",
     "output_type": "stream",
     "text": [
      " 37%|\u001b[32m███▋      \u001b[0m| 61/167 [01:00<01:45,  1.01it/s]"
     ]
    }
   ],
   "source": [
    "loss_fn = nn.CrossEntropyLoss()\n",
    "#loss_fn = FocalLoss(NUM_CLASS)\n",
    "loss_fn = loss_fn.to(device)\n",
    "\n",
    "lrs = [0.0001, 0.00005, 0.00001]\n",
    "weight_decays = [0.001, 0.0001, 0.00001]\n",
    "for lr in lrs:\n",
    "    for weight_decay in weight_decays:\n",
    "        print(f\"lr = {lr}, weight_decay = {weight_decay}\")\n",
    "        model = VGG16_FCN32(NUM_CLASS)\n",
    "        model = model.to(device)\n",
    "        optimizer = optim.Adam(\n",
    "            model.parameters(),\n",
    "            lr=lr,\n",
    "            weight_decay=weight_decay\n",
    "            )   \n",
    "        #input: [0.5, 0.2, 0.6] \n",
    "        #target: [1, 0, 1]\n",
    "\n",
    "        num_epoch = 200\n",
    "\n",
    "        iou_record = []\n",
    "        best_valid_iou = 0\n",
    "        best_valid_loss = 999999\n",
    "        best_epoch = 0\n",
    "        no_update_cnt = 0\n",
    "        best_model = None\n",
    "        patience = 5\n",
    "\n",
    "        x = time.time()\n",
    "        for epoch in range(num_epoch):\n",
    "            train_iou, train_loss = train_P2(train_loader, model, loss_fn, optimizer, device)\n",
    "            valid_iou, valid_loss = valid_P2(val_loader, model, loss_fn, device)\n",
    "            iou_record.append(valid_iou)\n",
    "\n",
    "            if valid_iou > best_valid_iou:\n",
    "                best_valid_loss = valid_loss\n",
    "                best_valid_iou = valid_iou\n",
    "                best_epoch = epoch\n",
    "                no_update_cnt = 0\n",
    "                best_model = model\n",
    "\n",
    "            else:\n",
    "                no_update_cnt += 1\n",
    "            y = time.time()\n",
    "            time_train = (y - x) / 60\n",
    "            print(f\"Epoch {epoch+1}: {round(time_train, 2)} min elapsed, train iou: {round(train_iou * 100, 2)}%, train loss: {round(train_loss, 3)}, valid iou: {round(valid_iou * 100, 2)}%, valid loss: {round(valid_loss, 3)}\")\n",
    "            #Early stop\n",
    "            if no_update_cnt > patience:\n",
    "                break\n",
    "        model_name = f\"models/p2/1003_VGG16FCN32_lr_{lr}_weight_decay_{weight_decay}\"\n",
    "        save_checkpoint(\n",
    "            best_model, optimizer, \n",
    "            round(best_valid_iou, 2), prefix=model_name\n",
    "        )  \n",
    "        print('########################################################')\n",
    "        print(\"Finish model tuning\")\n",
    "        print(f\"Best epoch is {best_epoch}, Iou: {best_valid_iou}, Loss: {best_valid_loss}\")\n",
    "        print('########################################################')"
   ]
  }
 ],
 "metadata": {
  "kernelspec": {
   "display_name": "Python 3.8.13 ('DLCV')",
   "language": "python",
   "name": "python3"
  },
  "language_info": {
   "codemirror_mode": {
    "name": "ipython",
    "version": 3
   },
   "file_extension": ".py",
   "mimetype": "text/x-python",
   "name": "python",
   "nbconvert_exporter": "python",
   "pygments_lexer": "ipython3",
   "version": "3.8.13"
  },
  "orig_nbformat": 4,
  "vscode": {
   "interpreter": {
    "hash": "0d54c9c7c4df8a052afb7edf85d7e59717205990fb0e0a2abea964d14f93df38"
   }
  }
 },
 "nbformat": 4,
 "nbformat_minor": 2
}
